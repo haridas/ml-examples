{
 "cells": [
  {
   "cell_type": "code",
   "execution_count": 68,
   "metadata": {},
   "outputs": [],
   "source": [
    "import pandas as pd\n",
    "import numpy as np"
   ]
  },
  {
   "cell_type": "code",
   "execution_count": 74,
   "metadata": {},
   "outputs": [],
   "source": [
    "df = pd.read_csv('./walnut_expense_report_01-04-2016_to_31-03-2018.csv')\n",
    "df.AMOUNT = df.AMOUNT.fillna('0')\n",
    "df.AMOUNT = df.AMOUNT.apply(lambda x: x.replace(',', ''))\n",
    "\n",
    "df.DATE = df.DATE.fillna('')\n",
    "df.DATE = df.DATE.apply(lambda x: '-'.join(x.split('-')[1:]))\n"
   ]
  },
  {
   "cell_type": "code",
   "execution_count": 76,
   "metadata": {},
   "outputs": [],
   "source": [
    "dt_grpby = df.groupby('DATE')\n",
    "cat_grpby = df.groupby('CATEGORY')"
   ]
  },
  {
   "cell_type": "code",
   "execution_count": null,
   "metadata": {},
   "outputs": [],
   "source": []
  }
 ],
 "metadata": {
  "kernelspec": {
   "display_name": "Python 2",
   "language": "python",
   "name": "python2"
  },
  "language_info": {
   "codemirror_mode": {
    "name": "ipython",
    "version": 2
   },
   "file_extension": ".py",
   "mimetype": "text/x-python",
   "name": "python",
   "nbconvert_exporter": "python",
   "pygments_lexer": "ipython2",
   "version": "2.7.14"
  }
 },
 "nbformat": 4,
 "nbformat_minor": 2
}
